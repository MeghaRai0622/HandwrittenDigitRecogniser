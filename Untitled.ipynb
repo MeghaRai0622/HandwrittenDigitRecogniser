{
 "cells": [
  {
   "cell_type": "code",
   "execution_count": null,
   "id": "3210c6ac-8de9-4458-b028-5376fbcc6af2",
   "metadata": {},
   "outputs": [],
   "source": [
    "import pyscreenshot as ImageGrab\n",
    "import time\n",
    "images_folder=\"captured_images/9/\"\n",
    " \n",
    "for i in range(0,100):\n",
    "   time.sleep(1)\n",
    "   im=ImageGrab.grab(bbox=(114,230,719,500)) #x1,y1,x2,y2\n",
    "   print(\"saved......\",i)\n",
    "   im.save(images_folder+str(i)+'.png')\n",
    "   print(\"clear screen now and redraw now........\")"
   ]
  },
  {
   "cell_type": "code",
   "execution_count": null,
   "id": "fb1976d3-f2a8-4141-8724-ccfde732150b",
   "metadata": {},
   "outputs": [],
   "source": [
    "import cv2\n",
    "import csv\n",
    "import glob\n",
    " \n",
    "header  =[\"label\"]\n",
    "for i in range(0,784):\n",
    "   header.append(\"pixel\"+str(i))\n",
    "with open('dataset.csv', 'a') as f:\n",
    "   writer = csv.writer(f)\n",
    "   writer.writerow(header)\n",
    "   \n",
    "for label in range(10):\n",
    "   dirList = glob.glob(\"captured_images/\"+str(label)+\"/*.png\")\n",
    "   \n",
    "   for img_path in dirList:\n",
    "       im= cv2.imread(img_path)\n",
    "       im_gray = cv2.cvtColor(im,cv2.COLOR_BGR2GRAY)\n",
    "       im_gray = cv2.GaussianBlur(im_gray,(15,15), 0)\n",
    "       roi= cv2.resize(im_gray,(28,28), interpolation=cv2.INTER_AREA)\n",
    "       \n",
    "       data=[]\n",
    "       data.append(label)\n",
    "       rows, cols = roi.shape\n",
    "       \n",
    "       ## Fill the data array with pixels one by one.\n",
    "       for i in range(rows):\n",
    "           for j in range(cols):\n",
    "               k =roi[i,j]\n",
    "               if k>100:\n",
    "                   k=1\n",
    "               else:\n",
    "                   k=0\n",
    "               data.append(k)\n",
    "       with open('dataset.csv', 'a') as f:\n",
    "           writer = csv.writer(f)\n",
    "           writer.writerow(data)"
   ]
  },
  {
   "cell_type": "code",
   "execution_count": null,
   "id": "22040d95-aeeb-4f48-9176-a80b9c264881",
   "metadata": {},
   "outputs": [],
   "source": [
    "import pandas as pd #pip install pandas\n",
    "from sklearn.utils import shuffle #pip install scikit-learn\n",
    "#0,....,1.....,2.....\n",
    "#5,3,1,0,2,5,.......\n",
    "\n",
    "data = pd.read_csv('dataset.csv')\n",
    "data = shuffle(data)\n",
    "print(data)"
   ]
  },
  {
   "cell_type": "code",
   "execution_count": null,
   "id": "eab822b3-40f7-416f-a84c-006ec51d356b",
   "metadata": {},
   "outputs": [],
   "source": [
    "X = data.drop([\"label\"],axis=1)\n",
    "Y= data[\"label\"]"
   ]
  },
  {
   "cell_type": "code",
   "execution_count": null,
   "id": "1d205a27-c4de-4978-b682-ec87d15b10cb",
   "metadata": {},
   "outputs": [],
   "source": [
    "%matplotlib inline\n",
    "import matplotlib.pyplot as plt\n",
    "import cv2\n",
    "\n",
    "# Make sure the index exists in your data\n",
    "# Option 1: Check if the index exists first\n",
    "if 314 in X.index and 314 in Y.index:\n",
    "    idx = 314\n",
    "else:\n",
    "    # Use an index that exists in your data\n",
    "    idx = X.index[0]  # Using the first available index\n",
    "\n",
    "# Option 2: Use .iloc for position-based indexing instead of .loc\n",
    "# idx = 314  # The position you want to access\n",
    "# img = X.iloc[idx].values.reshape(28,28)\n",
    "# print(Y.iloc[idx])\n",
    "\n",
    "# Using the approach from Option 1\n",
    "img = X.loc[idx].values.reshape(28,28)\n",
    "print(Y[idx])\n",
    "plt.imshow(img)\n",
    "plt.show()"
   ]
  },
  {
   "cell_type": "code",
   "execution_count": null,
   "id": "b1551d5a-b530-4c08-b0fc-dafca1eb9578",
   "metadata": {},
   "outputs": [],
   "source": [
    "from sklearn.model_selection import train_test_split\n",
    "train_x,test_x,train_y,test_y = train_test_split(X,Y, test_size = 0.2)"
   ]
  },
  {
   "cell_type": "code",
   "execution_count": null,
   "id": "c7f74ae1-6780-455d-afb9-377017be3e46",
   "metadata": {},
   "outputs": [],
   "source": [
    "import joblib\n",
    "import os\n",
    "from sklearn.svm import SVC\n",
    "\n",
    "# Create the 'model' directory if it doesn't exist\n",
    "os.makedirs('model', exist_ok=True)\n",
    "\n",
    "classifier = SVC(kernel=\"linear\", random_state=6)\n",
    "classifier.fit(train_x, train_y)\n",
    "\n",
    "# Now save the model - the directory exists\n",
    "joblib.dump(classifier, \"model/digit_recognizer\")"
   ]
  },
  {
   "cell_type": "code",
   "execution_count": null,
   "id": "769624b2-bf3e-4536-9128-16ce7998a969",
   "metadata": {},
   "outputs": [],
   "source": [
    "from sklearn import metrics\n",
    "prediction=classifier.predict(test_x)\n",
    "print(\"Accuracy= \",metrics.accuracy_score(prediction, test_y))"
   ]
  },
  {
   "cell_type": "code",
   "execution_count": null,
   "id": "a8eb6771-5e92-4cec-a10a-df881e71e97c",
   "metadata": {},
   "outputs": [],
   "source": [
    "import joblib\n",
    "import cv2\n",
    "import numpy as np #pip install numpy\n",
    "import time\n",
    "import pyscreenshot as ImageGrab\n",
    " \n",
    "model=joblib.load(\"model/digit_recognizer\")\n",
    "image_folder=\"img/\"  # This variable is defined here\n",
    " \n",
    "while True:\n",
    "   img=ImageGrab.grab(bbox=(114,230,719,500))\n",
    "   \n",
    "   img.save(image_folder+\"img.png\")  # Changed from images_folder to image_folder\n",
    "   im = cv2.imread(image_folder+\"img.png\")  # Changed from images_folder to image_folder\n",
    "   im_gray = cv2.cvtColor(im,cv2.COLOR_BGR2GRAY)\n",
    "   im_gray  =cv2.GaussianBlur(im_gray, (15,15), 0)\n",
    "   \n",
    "   #Threshold the image\n",
    "   ret, im_th = cv2.threshold(im_gray,100, 255, cv2.THRESH_BINARY)\n",
    "   roi = cv2.resize(im_th, (28,28), interpolation  =cv2.INTER_AREA)\n",
    "   \n",
    "   rows,cols=roi.shape\n",
    "   \n",
    "   X = []\n",
    "   \n",
    "   ##  Fill the data array with pixels one by one.\n",
    "   for i in range(rows):\n",
    "       for j in range(cols):\n",
    "           k = roi[i,j]\n",
    "           if k>100:\n",
    "               k=1\n",
    "           else:\n",
    "               k=0\n",
    "           X.append(k)\n",
    "           \n",
    "   predictions  =model.predict([X])\n",
    "   print(\"Prediction:\",predictions[0])\n",
    "   cv2.putText(im, \"Prediction is: \"+str(predictions[0]), (20,20), 0, 0.8,(0,255,0),2,cv2.LINE_AA)\n",
    "   \n",
    "   cv2.startWindowThread()\n",
    "   cv2.namedWindow(\"Result\")\n",
    "   cv2.imshow(\"Result\",im)\n",
    "   cv2.waitKey(10000)\n",
    "   if cv2.waitKey(1)==13: #27 is the ascii value of esc, 13 is the ascii value of enter\n",
    "       break\n",
    "cv2.destroyAllWindows()"
   ]
  },
  {
   "cell_type": "code",
   "execution_count": null,
   "id": "d6ea2c43-2dc8-4ce2-a654-b14c66cd2cfa",
   "metadata": {},
   "outputs": [],
   "source": []
  }
 ],
 "metadata": {
  "kernelspec": {
   "display_name": "Python [conda env:base] *",
   "language": "python",
   "name": "conda-base-py"
  },
  "language_info": {
   "codemirror_mode": {
    "name": "ipython",
    "version": 3
   },
   "file_extension": ".py",
   "mimetype": "text/x-python",
   "name": "python",
   "nbconvert_exporter": "python",
   "pygments_lexer": "ipython3",
   "version": "3.13.5"
  }
 },
 "nbformat": 4,
 "nbformat_minor": 5
}
